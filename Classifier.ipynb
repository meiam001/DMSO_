{
 "cells": [
  {
   "cell_type": "code",
   "execution_count": 1,
   "metadata": {
    "collapsed": true
   },
   "outputs": [],
   "source": [
    "import tensorflow\n",
    "from sklearn.cluster import KMeans\n",
    "import pandas as pd\n",
    "import numpy as np\n",
    "import pickle\n",
    "import os\n",
    "import random\n",
    "from collections import defaultdict"
   ]
  },
  {
   "cell_type": "code",
   "execution_count": 2,
   "metadata": {
    "scrolled": true
   },
   "outputs": [],
   "source": [
    "PATH = '.'\n",
    "FINGERPRINTS = 'fingerprints'\n",
    "fing_path = os.path.join(PATH, FINGERPRINTS)\n",
    "\n",
    "morg_2048_path = 'morgan_df_2048.p'\n",
    "morg_1024_path = 'morgan_df_1024.p'\n",
    "maccs = 'maccs_df.p'\n",
    "\n",
    "morg_2048_bit = os.path.join(fing_path, morg_2048_path)\n",
    "morg_1024_bit = os.path.join(fing_path, morg_1024_path)\n",
    "maccs = os.path.join(fing_path, maccs)\n",
    "\n",
    "pd.options.display.max_rows = 14\n",
    "pd.options.display.max_columns = 6"
   ]
  },
  {
   "cell_type": "code",
   "execution_count": 3,
   "metadata": {
    "collapsed": true
   },
   "outputs": [],
   "source": [
    "# Lets check a cluster technique!\n",
    "\n",
    "class ya_boi:\n",
    "\n",
    "    def __init__(self, x):\n",
    "        self.data = x\n",
    "        self.kmeans = None\n",
    "\n",
    "    def create_clusters(self):\n",
    "        self.kmeans = KMeans(n_clusters=4, init='random')#verbose=-1)\n",
    "        self.kmeans.fit(np.array(list(self.data['fingerprints']), dtype='int32'))\n",
    "        self.data['cluster'] = self.kmeans.labels_\n",
    "\n"
   ]
  },
  {
   "cell_type": "code",
   "execution_count": 4,
   "metadata": {
    "collapsed": true
   },
   "outputs": [],
   "source": [
    "df = pickle.load(open(morg_2048_bit, 'rb'))\n",
    "\n"
   ]
  },
  {
   "cell_type": "code",
   "execution_count": 5,
   "metadata": {
    "collapsed": true
   },
   "outputs": [],
   "source": [
    "x = ya_boi(df[:10000])\n",
    "del df\n"
   ]
  },
  {
   "cell_type": "code",
   "execution_count": 6,
   "metadata": {
    "collapsed": true
   },
   "outputs": [],
   "source": [
    "x.create_clusters()"
   ]
  },
  {
   "cell_type": "code",
   "execution_count": 7,
   "metadata": {
    "collapsed": true
   },
   "outputs": [],
   "source": [
    "p = defaultdict(list)\n",
    "\n",
    "x.data['Solubility'] = x.data['Solubility'].apply(tuple)\n",
    "\n",
    "clusters =4\n",
    "\n",
    "# This is to find out how many of each chemical went into each cluster\n",
    "for item in range(clusters):\n",
    "    for c, item in enumerate(x.data['cluster']):\n",
    "        # print(c, item)\n",
    "        if x.data['Solubility'][c] == (1,0) and x.data['cluster'][c] == item:\n",
    "            # print(item)\n",
    "            p[item].append(c)\n",
    "\n"
   ]
  },
  {
   "cell_type": "code",
   "execution_count": 12,
   "metadata": {
    "scrolled": false
   },
   "outputs": [
    {
     "name": "stdout",
     "output_type": "stream",
     "text": [
      "0 137\n",
      "1 75\n",
      "2 89\n",
      "3 200\n"
     ]
    }
   ],
   "source": [
    "# print(list(range(3)))\n",
    "# print(x.data)\n",
    "for item in range(clusters):\n",
    "    print(item, len(set(p[item])))"
   ]
  },
  {
   "cell_type": "code",
   "execution_count": 11,
   "metadata": {},
   "outputs": [
    {
     "name": "stdout",
     "output_type": "stream",
     "text": [
      "1732\n",
      "3282\n",
      "1765\n",
      "3221\n"
     ]
    }
   ],
   "source": [
    "for item in range(clusters):\n",
    "    print(list(x.data['cluster']).count(item))"
   ]
  },
  {
   "cell_type": "code",
   "execution_count": null,
   "metadata": {},
   "outputs": [],
   "source": []
  },
  {
   "cell_type": "code",
   "execution_count": null,
   "metadata": {
    "collapsed": true
   },
   "outputs": [],
   "source": []
  }
 ],
 "metadata": {
  "kernelspec": {
   "display_name": "Python (rdkit)",
   "language": "python",
   "name": "rdkit_env"
  },
  "language_info": {
   "codemirror_mode": {
    "name": "ipython",
    "version": 3
   },
   "file_extension": ".py",
   "mimetype": "text/x-python",
   "name": "python",
   "nbconvert_exporter": "python",
   "pygments_lexer": "ipython3",
   "version": "3.6.6"
  }
 },
 "nbformat": 4,
 "nbformat_minor": 2
}
