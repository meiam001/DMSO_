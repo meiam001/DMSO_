{
 "cells": [
  {
   "cell_type": "code",
   "execution_count": 1,
   "metadata": {
    "collapsed": true
   },
   "outputs": [],
   "source": [
    "import tensorflow\n",
    "from sklearn.cluster import KMeans\n",
    "import pandas as pd\n",
    "import numpy as np\n",
    "import pickle\n",
    "import os\n",
    "import random\n",
    "from collections import defaultdict"
   ]
  },
  {
   "cell_type": "code",
   "execution_count": 2,
   "metadata": {
    "collapsed": true,
    "scrolled": true
   },
   "outputs": [],
   "source": [
    "np.random.seed(random.randint(0,5000))\n",
    "PATH = '.'\n",
    "FINGERPRINTS = 'fingerprints'\n",
    "fing_path = os.path.join(PATH, FINGERPRINTS)\n",
    "\n",
    "morg_2048_path = 'morgan_df_2048.p'\n",
    "morg_1024_path = 'morgan_df_1024.p'\n",
    "maccs = 'maccs_df.p'\n",
    "\n",
    "morg_2048_bit = os.path.join(fing_path, morg_2048_path)\n",
    "morg_1024_bit = os.path.join(fing_path, morg_1024_path)\n",
    "maccs = os.path.join(fing_path, maccs)\n",
    "\n",
    "pd.options.display.max_rows = 14\n",
    "pd.options.display.max_columns = 6"
   ]
  },
  {
   "cell_type": "code",
   "execution_count": 3,
   "metadata": {
    "collapsed": true
   },
   "outputs": [],
   "source": [
    "# Lets check a cluster technique!\n",
    "\n",
    "class ya_boi:\n",
    "\n",
    "    def __init__(self, x):\n",
    "        self.data = x\n",
    "        self.kmeans = None\n",
    "\n",
    "    def create_clusters(self):\n",
    "        self.kmeans = KMeans(n_clusters=4, init='random')#verbose=-1)\n",
    "        self.kmeans.fit(np.array(list(self.data['fingerprints']), dtype='int32'))\n",
    "        self.data['cluster'] = self.kmeans.labels_\n",
    "\n"
   ]
  },
  {
   "cell_type": "code",
   "execution_count": 4,
   "metadata": {
    "collapsed": true
   },
   "outputs": [],
   "source": [
    "df = pickle.load(open(morg_2048_bit, 'rb'))\n",
    "\n"
   ]
  },
  {
   "cell_type": "code",
   "execution_count": 5,
   "metadata": {
    "collapsed": true
   },
   "outputs": [],
   "source": [
    "x = ya_boi(df[:10000])\n",
    "del df\n"
   ]
  },
  {
   "cell_type": "code",
   "execution_count": 6,
   "metadata": {
    "collapsed": true
   },
   "outputs": [],
   "source": [
    "# 2048 bit\n",
    "x.create_clusters()"
   ]
  },
  {
   "cell_type": "code",
   "execution_count": 7,
   "metadata": {
    "collapsed": true
   },
   "outputs": [],
   "source": [
    "p = defaultdict(list)\n",
    "\n",
    "x.data['Solubility'] = x.data['Solubility'].apply(tuple)\n",
    "\n",
    "clusters =3\n",
    "\n",
    "# This is to find out how many of each chemical went into each cluster\n",
    "for item in range(clusters):\n",
    "    for c, item in enumerate(x.data['cluster']):\n",
    "        # print(c, item)\n",
    "        if x.data['Solubility'][c] == (1,0) and x.data['cluster'][c] == item:\n",
    "            # print(item)\n",
    "            p[item].append(c)\n",
    "\n"
   ]
  },
  {
   "cell_type": "code",
   "execution_count": 8,
   "metadata": {
    "scrolled": false
   },
   "outputs": [
    {
     "name": "stdout",
     "output_type": "stream",
     "text": [
      "0 75\n",
      "1 199\n",
      "2 138\n"
     ]
    }
   ],
   "source": [
    "# Representation of insoluble compounds in each cluster\n",
    "for item in range(clusters):\n",
    "    print(item, len(set(p[item])))"
   ]
  },
  {
   "cell_type": "code",
   "execution_count": 9,
   "metadata": {},
   "outputs": [
    {
     "name": "stdout",
     "output_type": "stream",
     "text": [
      "3207\n",
      "3021\n",
      "1595\n"
     ]
    }
   ],
   "source": [
    "# Soluble \n",
    "for item in range(clusters):\n",
    "    print(list(x.data['cluster']).count(item) - len(set(p[item])))"
   ]
  },
  {
   "cell_type": "code",
   "execution_count": 10,
   "metadata": {},
   "outputs": [
    {
     "name": "stdout",
     "output_type": "stream",
     "text": [
      "3282\n",
      "3220\n",
      "1733\n"
     ]
    }
   ],
   "source": [
    "for item in range(clusters):\n",
    "    print(list(x.data['cluster']).count(item))"
   ]
  },
  {
   "cell_type": "code",
   "execution_count": 11,
   "metadata": {
    "collapsed": true
   },
   "outputs": [],
   "source": [
    "# The soluble compounds appear to be overrepresented in group 0 and underrepresented in group 1,\n",
    "# This is a great sign!"
   ]
  },
  {
   "cell_type": "code",
   "execution_count": 12,
   "metadata": {
    "collapsed": true
   },
   "outputs": [],
   "source": [
    "# 1024 bit\n",
    "\n",
    "df = pickle.load(open(morg_1024_bit, 'rb'))\n",
    "x = ya_boi(df[:10000])\n",
    "del df\n",
    "\n",
    "p = defaultdict(list)\n",
    "x.data['Solubility'] = x.data['Solubility'].apply(tuple)\n",
    "\n",
    "x.create_clusters()\n",
    "\n",
    "clusters =3\n",
    "\n",
    "# This is to find out how many of each chemical went into each cluster\n",
    "for item in range(clusters):\n",
    "    for c, item in enumerate(x.data['cluster']):\n",
    "        # print(c, item)\n",
    "        if x.data['Solubility'][c] == (1,0) and x.data['cluster'][c] == item:\n",
    "            # print(item)\n",
    "            p[item].append(c)\n",
    "\n",
    "            "
   ]
  },
  {
   "cell_type": "code",
   "execution_count": 13,
   "metadata": {},
   "outputs": [
    {
     "name": "stdout",
     "output_type": "stream",
     "text": [
      "0 203\n",
      "1 91\n",
      "2 68\n"
     ]
    }
   ],
   "source": [
    "for item in range(clusters):\n",
    "    print(item, len(set(p[item])))"
   ]
  },
  {
   "cell_type": "code",
   "execution_count": 14,
   "metadata": {},
   "outputs": [
    {
     "name": "stdout",
     "output_type": "stream",
     "text": [
      "3079\n",
      "1748\n",
      "3088\n"
     ]
    }
   ],
   "source": [
    "# Soluble \n",
    "for item in range(clusters):\n",
    "    print(list(x.data['cluster']).count(item) - len(set(p[item])))"
   ]
  },
  {
   "cell_type": "code",
   "execution_count": 15,
   "metadata": {},
   "outputs": [
    {
     "name": "stdout",
     "output_type": "stream",
     "text": [
      "3282\n",
      "1839\n",
      "3156\n"
     ]
    }
   ],
   "source": [
    "for item in range(clusters):\n",
    "    print(list(x.data['cluster']).count(item))"
   ]
  },
  {
   "cell_type": "code",
   "execution_count": 16,
   "metadata": {
    "collapsed": true
   },
   "outputs": [],
   "source": [
    "# This isn't as good at seperating in groups."
   ]
  },
  {
   "cell_type": "code",
   "execution_count": 17,
   "metadata": {
    "collapsed": true
   },
   "outputs": [],
   "source": [
    "# maccs\n",
    "\n",
    "df = pickle.load(open(maccs, 'rb'))\n",
    "x = ya_boi(df[:10000])\n",
    "del df\n",
    "\n",
    "p = defaultdict(list)\n",
    "x.data['Solubility'] = x.data['Solubility'].apply(tuple)\n",
    "\n",
    "x.create_clusters()\n",
    "\n",
    "clusters =3\n",
    "\n",
    "# This is to find out how many of each chemical went into each cluster\n",
    "for item in range(clusters):\n",
    "    for c, item in enumerate(x.data['cluster']):\n",
    "        # print(c, item)\n",
    "        if x.data['Solubility'][c] == (1,0) and x.data['cluster'][c] == item:\n",
    "            # print(item)\n",
    "            p[item].append(c)"
   ]
  },
  {
   "cell_type": "code",
   "execution_count": 18,
   "metadata": {},
   "outputs": [
    {
     "name": "stdout",
     "output_type": "stream",
     "text": [
      "0 159\n",
      "1 219\n",
      "2 37\n"
     ]
    }
   ],
   "source": [
    "for item in range(clusters):\n",
    "    print(item, len(set(p[item])))"
   ]
  },
  {
   "cell_type": "code",
   "execution_count": 19,
   "metadata": {},
   "outputs": [
    {
     "name": "stdout",
     "output_type": "stream",
     "text": [
      "2829\n",
      "2963\n",
      "1038\n"
     ]
    }
   ],
   "source": [
    "# Soluble \n",
    "for item in range(clusters):\n",
    "    print(list(x.data['cluster']).count(item) - len(set(p[item])))"
   ]
  },
  {
   "cell_type": "code",
   "execution_count": 20,
   "metadata": {},
   "outputs": [
    {
     "name": "stdout",
     "output_type": "stream",
     "text": [
      "2988\n",
      "3182\n",
      "1075\n"
     ]
    }
   ],
   "source": [
    "for item in range(clusters):\n",
    "    print(list(x.data['cluster']).count(item))"
   ]
  },
  {
   "cell_type": "code",
   "execution_count": null,
   "metadata": {
    "collapsed": true
   },
   "outputs": [],
   "source": []
  }
 ],
 "metadata": {
  "kernelspec": {
   "display_name": "Python (rdkit)",
   "language": "python",
   "name": "rdkit_env"
  },
  "language_info": {
   "codemirror_mode": {
    "name": "ipython",
    "version": 3
   },
   "file_extension": ".py",
   "mimetype": "text/x-python",
   "name": "python",
   "nbconvert_exporter": "python",
   "pygments_lexer": "ipython3",
   "version": "3.6.6"
  }
 },
 "nbformat": 4,
 "nbformat_minor": 2
}
