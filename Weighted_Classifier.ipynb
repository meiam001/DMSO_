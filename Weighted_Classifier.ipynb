
{
 "cells": [
  {
   "cell_type": "code",
   "execution_count": 1,
   "metadata": {
    "collapsed": true
   },
   "outputs": [],
   "source": [
    "import tensorflow as tf\n",
    "import pandas as pd\n",
    "import numpy as np\n",
    "import pickle\n",
    "import os\n",
    "from tensorflow import keras\n",
    "from math import floor"
   ]
  },
  {
   "cell_type": "code",
   "execution_count": 2,
   "metadata": {
    "collapsed": true
   },
   "outputs": [],
   "source": [
    "# Setup\n",
    "\n",
    "PATH = '.'\n",
    "FINGERPRINTS = 'fingerprints'\n",
    "fing_path = os.path.join(PATH, FINGERPRINTS)\n",
    "\n",
    "morg_2048_path = 'morgan_2048_df.p'\n",
    "morg_1024_path = 'morgan_1024_df.p'\n",
    "maccs = 'maccs_df.p'\n",
    "\n",
    "morg_2048_bit = os.path.join(fing_path, morg_2048_path)\n",
    "morg_1024_bit = os.path.join(fing_path, morg_1024_path)\n",
    "maccs = os.path.join(fing_path, maccs)\n",
    "\n",
    "\n",
    "pd.options.display.max_rows = 14\n",
    "pd.options.display.max_columns = 6\n",
    "np.random.seed(2)"
   ]
  },
  {
   "cell_type": "code",
   "execution_count": 47,
   "metadata": {},
   "outputs": [],
   "source": [
    "current_fingerprint = 'maccs'\n",
    "\n",
    "train_frac = .5\n",
    "validation_frac = .15\n",
    "test_frac = .2\n",
    "\n",
    "df = pickle.load(open(FINGERPRINTS+'\\\\%s_df.p'%current_fingerprint, 'rb'))\n",
    "\n",
    "df.reset_index(drop=True, inplace=True)\n",
    "    \n",
    "df_len = len(df)\n",
    "df['Solubility'] = df['Solubility'].apply(tuple)\n",
    "df['fingerprints'] = df['fingerprints'].apply(tuple)\n",
    "\n",
    "# Creating training and first validation set\n",
    "df_training = df[:floor(df_len*train_frac)]\n",
    "df_training_insol = df_training[df_training['Solubility']==(1,0)]\n",
    "df_training_sol = df_training[df_training['Solubility']==(0,1)]\n",
    "\n",
    "validation_set1 = df[floor(df_len*train_frac):floor(df_len*train_frac)+floor(df_len*validation_frac)]\n",
    "\n",
    "# Delete original set to reduce overhead.\n",
    "del df\n"
   ]
  },
  {
   "cell_type": "code",
   "execution_count": 52,
   "metadata": {},
   "outputs": [],
   "source": []
  },
  {
   "cell_type": "code",
   "execution_count": 53,
   "metadata": {},
   "outputs": [
    {
     "name": "stdout",
     "output_type": "stream",
     "text": [
      "                                                  SMILES Solubility  \\\n",
      "0      O=C([C@H](CC1=CC=CC=C1)N1C(=O)C2=CC=CC=C2C1=O)...     [0, 1]   \n",
      "1             CC1=C(C)CC2C(C1)C(=O)N(C2=O)C1=CC=CC(O)=C1     [0, 1]   \n",
      "2             CC1=C(C)CC2C(C1)C(=O)N(C2=O)C1=CC=C(I)C=C1     [0, 1]   \n",
      "3                             CCCCN1C(=O)NC2=C(CCC2)C1=O     [0, 1]   \n",
      "4                  CC1=NC2=C(S1)C=CC1=C2C=CC2=C1N=C(C)S2     [1, 0]   \n",
      "5                            CC(C)OC(=O)NC1=CC=C(Br)C=C1     [0, 1]   \n",
      "6                             O=C(NC1=CC=CC=C1)OC1CCCCC1     [0, 1]   \n",
      "...                                                  ...        ...   \n",
      "50613          COC1=CC=CC(C=CC(=O)C2=CC=CC(=C2)C#N)=C1OC     [0, 1]   \n",
      "50614    CC(=O)N1CCC2=CC(=CC=C12)C(=O)NC1CCOC2=CC=CC=C12     [0, 1]   \n",
      "50615             ClC1=CC=C(COC(=O)C2=CC=C3OCOC3=C2)C=C1     [0, 1]   \n",
      "50616        BrC1=CC=C(C=C1)C(=O)NC1=CC=C(C=C1)C1=CNC=N1     [0, 1]   \n",
      "50617                 CC1=CC=C2N(CCCC2=C1)C(=O)C1=COCCO1     [0, 1]   \n",
      "50618     CN(CC1=CC=CO1)C(=O)C1=CN=C(OCC(F)(F)F)C(Cl)=C1     [0, 1]   \n",
      "50619                CC(C)CC1=CC=C(C=C1)C(C)NC(=O)C1CCC1     [0, 1]   \n",
      "\n",
      "                                            fingerprints  \n",
      "0      [0, 1, 1, 0, 0, 0, 0, 0, 0, 0, 0, 0, 0, 0, 0, ...  \n",
      "1      [0, 0, 0, 0, 0, 1, 0, 0, 0, 0, 0, 0, 0, 0, 0, ...  \n",
      "2      [0, 0, 0, 0, 0, 1, 0, 0, 0, 0, 0, 0, 0, 0, 0, ...  \n",
      "3      [0, 0, 0, 0, 0, 0, 0, 0, 0, 0, 0, 0, 0, 0, 0, ...  \n",
      "4      [0, 0, 0, 0, 0, 0, 0, 0, 0, 0, 0, 0, 0, 0, 0, ...  \n",
      "5      [0, 1, 0, 0, 0, 0, 0, 0, 0, 0, 0, 0, 0, 0, 0, ...  \n",
      "6      [0, 0, 1, 0, 0, 0, 0, 0, 0, 0, 0, 0, 0, 0, 0, ...  \n",
      "...                                                  ...  \n",
      "50613  [0, 0, 0, 0, 0, 0, 0, 0, 0, 0, 0, 0, 1, 1, 0, ...  \n",
      "50614  [0, 0, 0, 0, 0, 0, 0, 0, 0, 0, 0, 0, 0, 0, 0, ...  \n",
      "50615  [0, 0, 0, 0, 0, 0, 0, 0, 0, 0, 0, 0, 0, 0, 0, ...  \n",
      "50616  [0, 0, 0, 0, 0, 0, 0, 0, 0, 0, 0, 0, 0, 0, 0, ...  \n",
      "50617  [0, 0, 0, 0, 0, 0, 0, 0, 0, 0, 0, 0, 0, 0, 0, ...  \n",
      "50618  [0, 0, 0, 0, 0, 0, 0, 0, 0, 0, 0, 0, 0, 0, 0, ...  \n",
      "50619  [0, 1, 0, 0, 0, 0, 0, 0, 0, 0, 0, 0, 0, 0, 0, ...  \n",
      "\n",
      "[50620 rows x 3 columns]                                                   SMILES Solubility  \\\n",
      "0      O=C([C@H](CC1=CC=CC=C1)N1C(=O)C2=CC=CC=C2C1=O)...     [0, 1]   \n",
      "1             CC1=C(C)CC2C(C1)C(=O)N(C2=O)C1=CC=CC(O)=C1     [0, 1]   \n",
      "2             CC1=C(C)CC2C(C1)C(=O)N(C2=O)C1=CC=C(I)C=C1     [0, 1]   \n",
      "3                             CCCCN1C(=O)NC2=C(CCC2)C1=O     [0, 1]   \n",
      "4                  CC1=NC2=C(S1)C=CC1=C2C=CC2=C1N=C(C)S2     [1, 0]   \n",
      "5                            CC(C)OC(=O)NC1=CC=C(Br)C=C1     [0, 1]   \n",
      "6                             O=C(NC1=CC=CC=C1)OC1CCCCC1     [0, 1]   \n",
      "...                                                  ...        ...   \n",
      "50613          COC1=CC=CC(C=CC(=O)C2=CC=CC(=C2)C#N)=C1OC     [0, 1]   \n",
      "50614    CC(=O)N1CCC2=CC(=CC=C12)C(=O)NC1CCOC2=CC=CC=C12     [0, 1]   \n",
      "50615             ClC1=CC=C(COC(=O)C2=CC=C3OCOC3=C2)C=C1     [0, 1]   \n",
      "50616        BrC1=CC=C(C=C1)C(=O)NC1=CC=C(C=C1)C1=CNC=N1     [0, 1]   \n",
      "50617                 CC1=CC=C2N(CCCC2=C1)C(=O)C1=COCCO1     [0, 1]   \n",
      "50618     CN(CC1=CC=CO1)C(=O)C1=CN=C(OCC(F)(F)F)C(Cl)=C1     [0, 1]   \n",
      "50619                CC(C)CC1=CC=C(C=C1)C(C)NC(=O)C1CCC1     [0, 1]   \n",
      "\n",
      "                                            fingerprints  \n",
      "0      [0, 0, 0, 0, 0, 0, 0, 0, 0, 0, 0, 0, 0, 0, 0, ...  \n",
      "1      [0, 0, 0, 0, 0, 0, 0, 0, 0, 0, 0, 0, 0, 0, 0, ...  \n",
      "2      [0, 0, 0, 0, 0, 0, 0, 0, 0, 0, 0, 0, 0, 0, 0, ...  \n",
      "3      [0, 0, 0, 0, 0, 0, 0, 0, 0, 0, 0, 0, 0, 0, 0, ...  \n",
      "4      [0, 0, 0, 0, 0, 0, 0, 0, 0, 0, 0, 0, 0, 0, 0, ...  \n",
      "5      [0, 0, 0, 0, 0, 0, 0, 0, 0, 0, 0, 0, 0, 0, 0, ...  \n",
      "6      [0, 0, 0, 0, 0, 0, 0, 0, 0, 0, 0, 0, 0, 0, 0, ...  \n",
      "...                                                  ...  \n",
      "50613  [0, 0, 0, 0, 0, 0, 0, 0, 0, 0, 0, 0, 0, 0, 0, ...  \n",
      "50614  [0, 0, 0, 0, 0, 0, 0, 0, 0, 0, 0, 0, 0, 0, 0, ...  \n",
      "50615  [0, 0, 0, 0, 0, 0, 0, 0, 0, 0, 0, 0, 0, 0, 0, ...  \n",
      "50616  [0, 0, 0, 0, 0, 0, 0, 0, 0, 0, 0, 0, 0, 0, 0, ...  \n",
      "50617  [0, 0, 0, 0, 0, 0, 0, 0, 0, 0, 0, 0, 0, 0, 0, ...  \n",
      "50618  [0, 0, 0, 0, 0, 0, 0, 0, 0, 0, 0, 0, 0, 0, 0, ...  \n",
      "50619  [0, 0, 0, 0, 0, 0, 0, 0, 0, 0, 0, 1, 0, 0, 0, ...  \n",
      "\n",
      "[50620 rows x 3 columns]\n"
     ]
    }
   ],
   "source": [
    "print(df, df2)"
   ]
  },
  {
   "cell_type": "code",
   "execution_count": 4,
   "metadata": {},
   "outputs": [
    {
     "name": "stdout",
     "output_type": "stream",
     "text": [
      "5.634390651085141 % insoluble\n",
      "1350 # insoluble\n",
      "23960 # soluble\n"
     ]
    }
   ],
   "source": [
    "print(len([c for c, i in enumerate(df_training['Solubility']) if i == (1,0)])\\\n",
    "/len([c for c, i in enumerate(df_training['Solubility']) if i == (0,1)])*100,'% insoluble')\n",
    "print(len([c for c, i in enumerate(df_training['Solubility']) if i == (1,0)]), '# insoluble')\n",
    "print(len([c for c, i in enumerate(df_training['Solubility']) if i == (0,1)]), '# soluble')"
   ]
  },
  {
   "cell_type": "code",
   "execution_count": 5,
   "metadata": {
    "collapsed": true
   },
   "outputs": [],
   "source": [
    "def batch(df_i,df_s):\n",
    "    \"\"\"\n",
    "    Feed function for model. Undersampled, randomly pickes 100 insoluble and 100 soluble compounds\n",
    "    \"\"\"\n",
    "    insol = df_i.sample(n = 100)\n",
    "    sol = df_s.sample(n = 100)\n",
    "    \n",
    "    df = pd.concat([insol, sol])\n",
    "    df = df.sample(frac=1)\n",
    "    \n",
    "    fprints = np.array(list(df['fingerprints']), dtype='int32')\n",
    "    labels = np.array(list(df['Solubility']), dtype='int32')\n",
    "    \n",
    "    return fprints, labels\n",
    "\n",
    "def validation_input(valid_set):\n",
    "    features = np.array(list(valid_set['fingerprints']))\n",
    "    labels = np.array(list(valid_set['Solubility']))\n",
    "    return features, labels\n",
    "\n",
    "def accuracy(predictions, labels):\n",
    "    return (100.0 * np.sum(np.argmax(predictions, 1) == np.argmax(labels, 1))\n",
    "            / predictions.shape[0])\n",
    "\n",
    "def insol_accuracy(valid, labels_v):\n",
    "    valid = [list(i) for i in valid]\n",
    "    labels_v = [list(i) for i in labels_v]\n",
    "    neg_matching = [count for count in range(len(valid)) if valid[count] == [1,0] and labels_v[count] == [1,0]]\n",
    "    return len(neg_matching)/len([count for count in range(len(labels_v)) if labels_v[count] == [1,0]])*100"
   ]
  },
  {
   "cell_type": "code",
   "execution_count": 21,
   "metadata": {},
   "outputs": [],
   "source": [
    "# Neural network time!\n",
    "\n",
    "graph = tf.Graph()\n",
    "\n",
    "n_inputs = len(df_training['fingerprints'][0])\n",
    "layer1_nodes = 2300\n",
    "layer2_nodes = 1300\n",
    "\n",
    "batch_size = 200\n",
    "learning_rate = .0001\n",
    "\n",
    "with graph.as_default():\n",
    "    # Setting up tensorflow graph\n",
    "    # Training data to be fed at runtime\n",
    "    train_data = tf.placeholder(dtype=tf.float32, name='input_layer')\n",
    "    train_labels = tf.placeholder(dtype=tf.float32, name='train_labels')\n",
    "\n",
    "    \n",
    "    # Weights\n",
    "    layer1_weights = tf.Variable(tf.truncated_normal([n_inputs, layer1_nodes]), name='l1_weights')\n",
    "    layer4_weights = tf.Variable(tf.truncated_normal([layer1_nodes, 2]), name='l2_weights')\n",
    "    \n",
    "    # Logits\n",
    "    logit1 = tf.matmul(train_data, layer1_weights, name='logit1')\n",
    "    relu_layer1 = tf.nn.relu6(logit1, name='relu_layer')\n",
    "    dropout_ = tf.nn.dropout(x=relu_layer1, keep_prob=.9, name='dropout')\n",
    "    logit4 = tf.matmul(dropout_, layer4_weights, name='logit4')\n",
    "    \n",
    "    # Loss tf.nn.softmax_cross_entropy_with_logits_v2\n",
    "    loss = tf.reduce_mean(tf.nn.softmax_cross_entropy_with_logits_v2(logits=logit4, labels=train_labels), name='loss')\n",
    "    # Optimizer\n",
    "    optimizer = tf.train.GradientDescentOptimizer(learning_rate,name='optimizer').minimize(loss)\n",
    "    \n",
    "    # Prediction\n",
    "    train_prediction = tf.nn.softmax(logit4, name='predictor')"
   ]
  },
  {
   "cell_type": "code",
   "execution_count": 22,
   "metadata": {
    "scrolled": true
   },
   "outputs": [
    {
     "name": "stdout",
     "output_type": "stream",
     "text": [
      "Minibatch loss at step 0: 148.84068298339844\n",
      "Minibatch accuracy: 50.00\n",
      "Insoluble minibatch accuracy: 97.00\n",
      "Insoluble validation accuracy: 98.03\n",
      "Minibatch validation accuracy: 5.62\n",
      "\n"
     ]
    },
    {
     "ename": "KeyboardInterrupt",
     "evalue": "",
     "output_type": "error",
     "traceback": [
      "\u001b[1;31m---------------------------------------------------------------------------\u001b[0m",
      "\u001b[1;31mKeyboardInterrupt\u001b[0m                         Traceback (most recent call last)",
      "\u001b[1;32m<ipython-input-22-e79dc4518c9c>\u001b[0m in \u001b[0;36m<module>\u001b[1;34m()\u001b[0m\n\u001b[0;32m      7\u001b[0m         \u001b[0mdata\u001b[0m\u001b[1;33m,\u001b[0m \u001b[0mlabels\u001b[0m \u001b[1;33m=\u001b[0m \u001b[0mbatch\u001b[0m\u001b[1;33m(\u001b[0m\u001b[0mdf_training_insol\u001b[0m\u001b[1;33m,\u001b[0m \u001b[0mdf_training_sol\u001b[0m\u001b[1;33m)\u001b[0m\u001b[1;33m\u001b[0m\u001b[0m\n\u001b[0;32m      8\u001b[0m         \u001b[0mfeed_dict\u001b[0m \u001b[1;33m=\u001b[0m \u001b[1;33m{\u001b[0m\u001b[0mtrain_data\u001b[0m\u001b[1;33m:\u001b[0m \u001b[0mdata\u001b[0m\u001b[1;33m,\u001b[0m\u001b[0mtrain_labels\u001b[0m\u001b[1;33m:\u001b[0m \u001b[0mlabels\u001b[0m \u001b[1;33m}\u001b[0m\u001b[1;33m\u001b[0m\u001b[0m\n\u001b[1;32m----> 9\u001b[1;33m         \u001b[0m_\u001b[0m\u001b[1;33m,\u001b[0m \u001b[0ml\u001b[0m\u001b[1;33m,\u001b[0m \u001b[0mpredictions\u001b[0m \u001b[1;33m=\u001b[0m \u001b[0msession\u001b[0m\u001b[1;33m.\u001b[0m\u001b[0mrun\u001b[0m\u001b[1;33m(\u001b[0m\u001b[1;33m[\u001b[0m\u001b[0moptimizer\u001b[0m\u001b[1;33m,\u001b[0m \u001b[0mloss\u001b[0m\u001b[1;33m,\u001b[0m \u001b[0mtrain_prediction\u001b[0m\u001b[1;33m]\u001b[0m\u001b[1;33m,\u001b[0m \u001b[0mfeed_dict\u001b[0m\u001b[1;33m=\u001b[0m\u001b[0mfeed_dict\u001b[0m\u001b[1;33m)\u001b[0m\u001b[1;33m\u001b[0m\u001b[0m\n\u001b[0m\u001b[0;32m     10\u001b[0m         \u001b[1;31m# print(predictions)\u001b[0m\u001b[1;33m\u001b[0m\u001b[1;33m\u001b[0m\u001b[0m\n\u001b[0;32m     11\u001b[0m         \u001b[1;31m# print(l)\u001b[0m\u001b[1;33m\u001b[0m\u001b[1;33m\u001b[0m\u001b[0m\n",
      "\u001b[1;32m~\\AppData\\Local\\Continuum\\anaconda3\\envs\\rdkit_env\\lib\\site-packages\\tensorflow\\python\\client\\session.py\u001b[0m in \u001b[0;36mrun\u001b[1;34m(self, fetches, feed_dict, options, run_metadata)\u001b[0m\n\u001b[0;32m    875\u001b[0m     \u001b[1;32mtry\u001b[0m\u001b[1;33m:\u001b[0m\u001b[1;33m\u001b[0m\u001b[0m\n\u001b[0;32m    876\u001b[0m       result = self._run(None, fetches, feed_dict, options_ptr,\n\u001b[1;32m--> 877\u001b[1;33m                          run_metadata_ptr)\n\u001b[0m\u001b[0;32m    878\u001b[0m       \u001b[1;32mif\u001b[0m \u001b[0mrun_metadata\u001b[0m\u001b[1;33m:\u001b[0m\u001b[1;33m\u001b[0m\u001b[0m\n\u001b[0;32m    879\u001b[0m         \u001b[0mproto_data\u001b[0m \u001b[1;33m=\u001b[0m \u001b[0mtf_session\u001b[0m\u001b[1;33m.\u001b[0m\u001b[0mTF_GetBuffer\u001b[0m\u001b[1;33m(\u001b[0m\u001b[0mrun_metadata_ptr\u001b[0m\u001b[1;33m)\u001b[0m\u001b[1;33m\u001b[0m\u001b[0m\n",
      "\u001b[1;32m~\\AppData\\Local\\Continuum\\anaconda3\\envs\\rdkit_env\\lib\\site-packages\\tensorflow\\python\\client\\session.py\u001b[0m in \u001b[0;36m_run\u001b[1;34m(self, handle, fetches, feed_dict, options, run_metadata)\u001b[0m\n\u001b[0;32m   1098\u001b[0m     \u001b[1;32mif\u001b[0m \u001b[0mfinal_fetches\u001b[0m \u001b[1;32mor\u001b[0m \u001b[0mfinal_targets\u001b[0m \u001b[1;32mor\u001b[0m \u001b[1;33m(\u001b[0m\u001b[0mhandle\u001b[0m \u001b[1;32mand\u001b[0m \u001b[0mfeed_dict_tensor\u001b[0m\u001b[1;33m)\u001b[0m\u001b[1;33m:\u001b[0m\u001b[1;33m\u001b[0m\u001b[0m\n\u001b[0;32m   1099\u001b[0m       results = self._do_run(handle, final_targets, final_fetches,\n\u001b[1;32m-> 1100\u001b[1;33m                              feed_dict_tensor, options, run_metadata)\n\u001b[0m\u001b[0;32m   1101\u001b[0m     \u001b[1;32melse\u001b[0m\u001b[1;33m:\u001b[0m\u001b[1;33m\u001b[0m\u001b[0m\n\u001b[0;32m   1102\u001b[0m       \u001b[0mresults\u001b[0m \u001b[1;33m=\u001b[0m \u001b[1;33m[\u001b[0m\u001b[1;33m]\u001b[0m\u001b[1;33m\u001b[0m\u001b[0m\n",
      "\u001b[1;32m~\\AppData\\Local\\Continuum\\anaconda3\\envs\\rdkit_env\\lib\\site-packages\\tensorflow\\python\\client\\session.py\u001b[0m in \u001b[0;36m_do_run\u001b[1;34m(self, handle, target_list, fetch_list, feed_dict, options, run_metadata)\u001b[0m\n\u001b[0;32m   1270\u001b[0m     \u001b[1;32mif\u001b[0m \u001b[0mhandle\u001b[0m \u001b[1;32mis\u001b[0m \u001b[1;32mNone\u001b[0m\u001b[1;33m:\u001b[0m\u001b[1;33m\u001b[0m\u001b[0m\n\u001b[0;32m   1271\u001b[0m       return self._do_call(_run_fn, feeds, fetches, targets, options,\n\u001b[1;32m-> 1272\u001b[1;33m                            run_metadata)\n\u001b[0m\u001b[0;32m   1273\u001b[0m     \u001b[1;32melse\u001b[0m\u001b[1;33m:\u001b[0m\u001b[1;33m\u001b[0m\u001b[0m\n\u001b[0;32m   1274\u001b[0m       \u001b[1;32mreturn\u001b[0m \u001b[0mself\u001b[0m\u001b[1;33m.\u001b[0m\u001b[0m_do_call\u001b[0m\u001b[1;33m(\u001b[0m\u001b[0m_prun_fn\u001b[0m\u001b[1;33m,\u001b[0m \u001b[0mhandle\u001b[0m\u001b[1;33m,\u001b[0m \u001b[0mfeeds\u001b[0m\u001b[1;33m,\u001b[0m \u001b[0mfetches\u001b[0m\u001b[1;33m)\u001b[0m\u001b[1;33m\u001b[0m\u001b[0m\n",
      "\u001b[1;32m~\\AppData\\Local\\Continuum\\anaconda3\\envs\\rdkit_env\\lib\\site-packages\\tensorflow\\python\\client\\session.py\u001b[0m in \u001b[0;36m_do_call\u001b[1;34m(self, fn, *args)\u001b[0m\n\u001b[0;32m   1276\u001b[0m   \u001b[1;32mdef\u001b[0m \u001b[0m_do_call\u001b[0m\u001b[1;33m(\u001b[0m\u001b[0mself\u001b[0m\u001b[1;33m,\u001b[0m \u001b[0mfn\u001b[0m\u001b[1;33m,\u001b[0m \u001b[1;33m*\u001b[0m\u001b[0margs\u001b[0m\u001b[1;33m)\u001b[0m\u001b[1;33m:\u001b[0m\u001b[1;33m\u001b[0m\u001b[0m\n\u001b[0;32m   1277\u001b[0m     \u001b[1;32mtry\u001b[0m\u001b[1;33m:\u001b[0m\u001b[1;33m\u001b[0m\u001b[0m\n\u001b[1;32m-> 1278\u001b[1;33m       \u001b[1;32mreturn\u001b[0m \u001b[0mfn\u001b[0m\u001b[1;33m(\u001b[0m\u001b[1;33m*\u001b[0m\u001b[0margs\u001b[0m\u001b[1;33m)\u001b[0m\u001b[1;33m\u001b[0m\u001b[0m\n\u001b[0m\u001b[0;32m   1279\u001b[0m     \u001b[1;32mexcept\u001b[0m \u001b[0merrors\u001b[0m\u001b[1;33m.\u001b[0m\u001b[0mOpError\u001b[0m \u001b[1;32mas\u001b[0m \u001b[0me\u001b[0m\u001b[1;33m:\u001b[0m\u001b[1;33m\u001b[0m\u001b[0m\n\u001b[0;32m   1280\u001b[0m       \u001b[0mmessage\u001b[0m \u001b[1;33m=\u001b[0m \u001b[0mcompat\u001b[0m\u001b[1;33m.\u001b[0m\u001b[0mas_text\u001b[0m\u001b[1;33m(\u001b[0m\u001b[0me\u001b[0m\u001b[1;33m.\u001b[0m\u001b[0mmessage\u001b[0m\u001b[1;33m)\u001b[0m\u001b[1;33m\u001b[0m\u001b[0m\n",
      "\u001b[1;32m~\\AppData\\Local\\Continuum\\anaconda3\\envs\\rdkit_env\\lib\\site-packages\\tensorflow\\python\\client\\session.py\u001b[0m in \u001b[0;36m_run_fn\u001b[1;34m(feed_dict, fetch_list, target_list, options, run_metadata)\u001b[0m\n\u001b[0;32m   1261\u001b[0m       \u001b[0mself\u001b[0m\u001b[1;33m.\u001b[0m\u001b[0m_extend_graph\u001b[0m\u001b[1;33m(\u001b[0m\u001b[1;33m)\u001b[0m\u001b[1;33m\u001b[0m\u001b[0m\n\u001b[0;32m   1262\u001b[0m       return self._call_tf_sessionrun(\n\u001b[1;32m-> 1263\u001b[1;33m           options, feed_dict, fetch_list, target_list, run_metadata)\n\u001b[0m\u001b[0;32m   1264\u001b[0m \u001b[1;33m\u001b[0m\u001b[0m\n\u001b[0;32m   1265\u001b[0m     \u001b[1;32mdef\u001b[0m \u001b[0m_prun_fn\u001b[0m\u001b[1;33m(\u001b[0m\u001b[0mhandle\u001b[0m\u001b[1;33m,\u001b[0m \u001b[0mfeed_dict\u001b[0m\u001b[1;33m,\u001b[0m \u001b[0mfetch_list\u001b[0m\u001b[1;33m)\u001b[0m\u001b[1;33m:\u001b[0m\u001b[1;33m\u001b[0m\u001b[0m\n",
      "\u001b[1;32m~\\AppData\\Local\\Continuum\\anaconda3\\envs\\rdkit_env\\lib\\site-packages\\tensorflow\\python\\client\\session.py\u001b[0m in \u001b[0;36m_call_tf_sessionrun\u001b[1;34m(self, options, feed_dict, fetch_list, target_list, run_metadata)\u001b[0m\n\u001b[0;32m   1348\u001b[0m     return tf_session.TF_SessionRun_wrapper(\n\u001b[0;32m   1349\u001b[0m         \u001b[0mself\u001b[0m\u001b[1;33m.\u001b[0m\u001b[0m_session\u001b[0m\u001b[1;33m,\u001b[0m \u001b[0moptions\u001b[0m\u001b[1;33m,\u001b[0m \u001b[0mfeed_dict\u001b[0m\u001b[1;33m,\u001b[0m \u001b[0mfetch_list\u001b[0m\u001b[1;33m,\u001b[0m \u001b[0mtarget_list\u001b[0m\u001b[1;33m,\u001b[0m\u001b[1;33m\u001b[0m\u001b[0m\n\u001b[1;32m-> 1350\u001b[1;33m         run_metadata)\n\u001b[0m\u001b[0;32m   1351\u001b[0m \u001b[1;33m\u001b[0m\u001b[0m\n\u001b[0;32m   1352\u001b[0m   \u001b[1;32mdef\u001b[0m \u001b[0m_call_tf_sessionprun\u001b[0m\u001b[1;33m(\u001b[0m\u001b[0mself\u001b[0m\u001b[1;33m,\u001b[0m \u001b[0mhandle\u001b[0m\u001b[1;33m,\u001b[0m \u001b[0mfeed_dict\u001b[0m\u001b[1;33m,\u001b[0m \u001b[0mfetch_list\u001b[0m\u001b[1;33m)\u001b[0m\u001b[1;33m:\u001b[0m\u001b[1;33m\u001b[0m\u001b[0m\n",
      "\u001b[1;31mKeyboardInterrupt\u001b[0m: "
     ]
    }
   ],
   "source": [
    "\n",
    "\n",
    "with tf.Session(graph=graph) as session:\n",
    "    tf.global_variables_initializer().run()\n",
    "    # writer = tf.summary.FileWriter('.', session.graph)\n",
    "    for step in range(10001):\n",
    "        data, labels = batch(df_training_insol, df_training_sol)\n",
    "        feed_dict = {train_data: data,train_labels: labels }\n",
    "        _, l, predictions = session.run([optimizer, loss, train_prediction], feed_dict=feed_dict)\n",
    "        # print(predictions)\n",
    "        # print(l)\n",
    "        if step % 500 == 0:\n",
    "            data_v, labels_v = validation_input(validation_set1)\n",
    "            feed_dict = {train_data: data_v,train_labels: labels_v}\n",
    "            _, valid = session.run([loss, train_prediction], feed_dict=feed_dict)\n",
    "            print(\"Minibatch loss at step {}: {}\".format(step, l))\n",
    "            print(\"Minibatch accuracy: {:.2f}\".format(accuracy(predictions, labels)))\n",
    "            print(\"Insoluble minibatch accuracy: {:.2f}\".format(insol_accuracy(predictions, labels)))\n",
    "            print(\"Insoluble validation accuracy: {:.2f}\".format(insol_accuracy(valid, labels_v)))\n",
    "            print(\"Minibatch validation accuracy: {:.2f}\".format(accuracy(valid, labels_v)))\n",
    "            print(\"\")\n",
    "        \n",
    "        "
   ]
  },
  {
   "cell_type": "code",
   "execution_count": 23,
   "metadata": {},
   "outputs": [
    {
     "data": {
      "text/plain": [
       "[1, 2, 2, 3, 4]"
      ]
     },
     "execution_count": 23,
     "metadata": {},
     "output_type": "execute_result"
    }
   ],
   "source": []
  },
  {
   "cell_type": "code",
   "execution_count": null,
   "metadata": {
    "collapsed": true
   },
   "outputs": [],
   "source": []
  },
  {
   "cell_type": "code",
   "execution_count": null,
   "metadata": {
    "collapsed": true
   },
   "outputs": [],
   "source": []
  },
  {
   "cell_type": "code",
   "execution_count": null,
   "metadata": {
    "collapsed": true
   },
   "outputs": [],
   "source": []
  },
  {
   "cell_type": "code",
   "execution_count": null,
   "metadata": {
    "collapsed": true
   },
   "outputs": [],
   "source": []
  }
 ],
 "metadata": {
  "kernelspec": {
   "display_name": "Python (rdkit)",
   "language": "python",
   "name": "rdkit_env"
  },
  "language_info": {
   "codemirror_mode": {
    "name": "ipython",
    "version": 3
   },
   "file_extension": ".py",
   "mimetype": "text/x-python",
   "name": "python",
   "nbconvert_exporter": "python",
   "pygments_lexer": "ipython3",
   "version": "3.6.6"
  }
 },
 "nbformat": 4,
 "nbformat_minor": 2
}
